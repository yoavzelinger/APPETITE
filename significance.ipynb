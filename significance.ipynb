{
 "cells": [
  {
   "cell_type": "code",
   "execution_count": 18,
   "metadata": {},
   "outputs": [],
   "source": [
    "import pandas as pd\n",
    "import scipy.stats as stats\n",
    "\n",
    "df = pd.read_csv(\"C:\\\\Users\\\\yoavz\\\\Desktop\\\\bests_raw.csv\")\n",
    "\n",
    "model1_accuracies = df[\"STAT_SFLDT fix accuracy increase\"] "
   ]
  },
  {
   "cell_type": "code",
   "execution_count": 24,
   "metadata": {},
   "outputs": [
    {
     "name": "stdout",
     "output_type": "stream",
     "text": [
      "Paired t-test: t-statistic = -1.4331992627902215, p-value = 0.07628056627046467\n",
      "fBARINEL_Features is significantly better than STAT_SFLDT (p < 0.05)\n"
     ]
    }
   ],
   "source": [
    "model2 = \"BARINEL_Features\"\n",
    "model2_accuracies = df[f\"{model2} fix accuracy increase\"]\n",
    "\n",
    "# Perform paired t-test\n",
    "ttest = stats.ttest_rel(model1_accuracies, model2_accuracies, alternative='less')\n",
    "\n",
    "# Print results\n",
    "print(f\"Paired t-test: t-statistic = {ttest.statistic}, p-value = {ttest.pvalue}\")\n",
    "\n",
    "# Interpretation\n",
    "alpha = 0.1  # Significance level\n",
    "if ttest.pvalue < alpha:\n",
    "    print(f\"f{model2} is significantly better than STAT_SFLDT (p < 0.05)\")\n",
    "else:\n",
    "    print(\"No significant difference between the models (p ≥ 0.05)\")"
   ]
  }
 ],
 "metadata": {
  "kernelspec": {
   "display_name": "school_venv",
   "language": "python",
   "name": "python3"
  },
  "language_info": {
   "codemirror_mode": {
    "name": "ipython",
    "version": 3
   },
   "file_extension": ".py",
   "mimetype": "text/x-python",
   "name": "python",
   "nbconvert_exporter": "python",
   "pygments_lexer": "ipython3",
   "version": "3.10.15"
  }
 },
 "nbformat": 4,
 "nbformat_minor": 2
}
