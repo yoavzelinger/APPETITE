{
 "cells": [
  {
   "cell_type": "code",
   "execution_count": 13,
   "metadata": {},
   "outputs": [
    {
     "name": "stdout",
     "output_type": "stream",
     "text": [
      "Significant difference between the models\n"
     ]
    }
   ],
   "source": [
    "df = pd.read_csv(\"C:\\\\Users\\\\yoavz\\\\GitHub\\\\APPETITE\\\\results\\\\results_no_onehot_raw.csv\")\n",
    "column1_name = \"before-after-retrain fix accuracy increase\"\n",
    "column_2_name = \"Aggregated_Tests-Feature_Components-BARINEL fix accuracy increase\"\n",
    "\n",
    "import pandas as pd\n",
    "import scipy.stats as stats\n",
    "\n",
    "alpha = 0.05  # Significance level\n",
    "\n",
    "column1, column_2 = df[column1_name], df[column_2_name]\n",
    "\n",
    "# Perform paired t-test\n",
    "ttest = stats.ttest_rel(column1, column_2, alternative='two-sided')\n",
    "\n",
    "# Interpretation\n",
    "if ttest.pvalue <= alpha:\n",
    "    print(f\"Significant difference between the models\")\n",
    "else:\n",
    "    print(f\"NO SIGNIFICANCE DIFFERENCE BETWEEN THE MODELS (pvalue = {ttest.pvalue} < {alpha} )\")\n"
   ]
  }
 ],
 "metadata": {
  "kernelspec": {
   "display_name": "school_venv",
   "language": "python",
   "name": "python3"
  },
  "language_info": {
   "codemirror_mode": {
    "name": "ipython",
    "version": 3
   },
   "file_extension": ".py",
   "mimetype": "text/x-python",
   "name": "python",
   "nbconvert_exporter": "python",
   "pygments_lexer": "ipython3",
   "version": "3.10.15"
  }
 },
 "nbformat": 4,
 "nbformat_minor": 2
}
